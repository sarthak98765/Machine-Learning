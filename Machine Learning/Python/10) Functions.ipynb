{
 "cells": [
  {
   "cell_type": "markdown",
   "id": "a6ded8db",
   "metadata": {},
   "source": [
    "# Functions\n",
    "Functions is a block of code that can be reused in a program"
   ]
  },
  {
   "cell_type": "code",
   "execution_count": 1,
   "id": "73310695",
   "metadata": {},
   "outputs": [
    {
     "name": "stdout",
     "output_type": "stream",
     "text": [
      "hii\n"
     ]
    }
   ],
   "source": [
    "# Defining Function- use def keyword along with function name and ():\n",
    "\n",
    "def hello():      #function defined\n",
    "    print(\"hii\")\n",
    "hello()            #function called"
   ]
  },
  {
   "cell_type": "markdown",
   "id": "f0a38642",
   "metadata": {},
   "source": [
    "# Parameters and arguments\n",
    "A parameter is the variable listed inside the parantheses in the function definition.\n",
    "\n",
    "An argument is the value that is sent to the function when it is called."
   ]
  },
  {
   "cell_type": "code",
   "execution_count": 2,
   "id": "9f7b24db",
   "metadata": {},
   "outputs": [
    {
     "name": "stdout",
     "output_type": "stream",
     "text": [
      "57\n"
     ]
    }
   ],
   "source": [
    "def print_sum(a,b):     # a and b are parameters\n",
    "    print(a+b)\n",
    "print_sum(45,12)        # 45 and 12 are arguments"
   ]
  },
  {
   "cell_type": "markdown",
   "id": "74b1de5f",
   "metadata": {},
   "source": [
    "Number of paramters and arguments should be same"
   ]
  },
  {
   "cell_type": "markdown",
   "id": "b728e577",
   "metadata": {},
   "source": [
    "# Return values\n",
    "If we want to save the value, we use return argument keyword to save it in a variable"
   ]
  },
  {
   "cell_type": "code",
   "execution_count": 3,
   "id": "fe6c9068",
   "metadata": {},
   "outputs": [
    {
     "name": "stdout",
     "output_type": "stream",
     "text": [
      "This is the average of 2 given numbers\n",
      "6.0\n"
     ]
    }
   ],
   "source": [
    "def avg(a,b):\n",
    "    \"\"\"This is the average of 2 given numbers\"\"\"     #Lines put in triple quotes just after defining function is called docstring\n",
    "    average=(a+b)/2\n",
    "    return average\n",
    "v=avg(5,7)        # average of 5 and 7 is stored in variable v\n",
    "print(avg.__doc__)      #syntax to print doctring\n",
    "print(v)"
   ]
  },
  {
   "cell_type": "markdown",
   "id": "fd5da383",
   "metadata": {},
   "source": [
    "# Variable parameters \n",
    "We use asterisk symbol(*) in our paramters"
   ]
  },
  {
   "cell_type": "code",
   "execution_count": 4,
   "id": "7c0fd0e1",
   "metadata": {},
   "outputs": [
    {
     "name": "stdout",
     "output_type": "stream",
     "text": [
      "100\n"
     ]
    }
   ],
   "source": [
    "def print_sum(*numbers):\n",
    "    result=0\n",
    "    for x in numbers:\n",
    "        result=result+x\n",
    "    print(result)\n",
    "print_sum(10,20,30,40)"
   ]
  },
  {
   "cell_type": "markdown",
   "id": "16880186",
   "metadata": {},
   "source": [
    "# Scope"
   ]
  },
  {
   "cell_type": "code",
   "execution_count": 5,
   "id": "0cc9cd2e",
   "metadata": {},
   "outputs": [
    {
     "ename": "NameError",
     "evalue": "name 'n' is not defined",
     "output_type": "error",
     "traceback": [
      "\u001b[1;31m---------------------------------------------------------------------------\u001b[0m",
      "\u001b[1;31mNameError\u001b[0m                                 Traceback (most recent call last)",
      "\u001b[1;32m~\\AppData\\Local\\Temp\\ipykernel_10644\\3885013658.py\u001b[0m in \u001b[0;36m<module>\u001b[1;34m\u001b[0m\n\u001b[0;32m      2\u001b[0m     \u001b[0mn\u001b[0m\u001b[1;33m=\u001b[0m\u001b[1;36m10\u001b[0m\u001b[1;33m\u001b[0m\u001b[1;33m\u001b[0m\u001b[0m\n\u001b[0;32m      3\u001b[0m     \u001b[0mprint\u001b[0m\u001b[1;33m(\u001b[0m\u001b[0mn\u001b[0m\u001b[1;33m)\u001b[0m\u001b[1;33m\u001b[0m\u001b[1;33m\u001b[0m\u001b[0m\n\u001b[1;32m----> 4\u001b[1;33m \u001b[0mprint\u001b[0m\u001b[1;33m(\u001b[0m\u001b[0mn\u001b[0m\u001b[1;33m)\u001b[0m     \u001b[1;31m# Can't access outside structure because it exists only inside the function\u001b[0m\u001b[1;33m\u001b[0m\u001b[1;33m\u001b[0m\u001b[0m\n\u001b[0m",
      "\u001b[1;31mNameError\u001b[0m: name 'n' is not defined"
     ]
    }
   ],
   "source": [
    "def function():\n",
    "    n=10\n",
    "    print(n)\n",
    "print(n)     # Can't access outside structure because it exists only inside the function"
   ]
  },
  {
   "cell_type": "code",
   "execution_count": 6,
   "id": "32e225b9",
   "metadata": {},
   "outputs": [
    {
     "name": "stdout",
     "output_type": "stream",
     "text": [
      "10\n"
     ]
    }
   ],
   "source": [
    "n=10\n",
    "def function():\n",
    "    print(n)\n",
    "function()     # it is a local variable. it works but we can't manipulate it"
   ]
  },
  {
   "cell_type": "code",
   "execution_count": 7,
   "id": "0de11545",
   "metadata": {},
   "outputs": [
    {
     "name": "stdout",
     "output_type": "stream",
     "text": [
      "30\n"
     ]
    }
   ],
   "source": [
    "n=20\n",
    "def function():\n",
    "    global n\n",
    "    n=n+10\n",
    "    print(n)\n",
    "function()     # now we can manipulate it also as n is now a global variable"
   ]
  },
  {
   "cell_type": "markdown",
   "id": "be5fd0d0",
   "metadata": {},
   "source": [
    "# program"
   ]
  },
  {
   "cell_type": "code",
   "execution_count": 8,
   "id": "14683d56",
   "metadata": {},
   "outputs": [
    {
     "name": "stdout",
     "output_type": "stream",
     "text": [
      "Enter the number: 7\n",
      "The factorial of 7 is 5040\n"
     ]
    }
   ],
   "source": [
    "# Factorial of a number(using loop)\n",
    "number = int(input(\"Enter the number: \"))\n",
    "\n",
    "factorial = 1\n",
    "if number == 0:\n",
    "    print(\"The factorial of 0 is 1\")\n",
    "else:\n",
    "    for i in range(1, number+1):           # range(1,6)= include 1 and exclude 6\n",
    "        factorial = factorial*i            \n",
    "print(\"The factorial of {} is {}\".format(number,factorial))"
   ]
  }
 ],
 "metadata": {
  "kernelspec": {
   "display_name": "Python 3 (ipykernel)",
   "language": "python",
   "name": "python3"
  },
  "language_info": {
   "codemirror_mode": {
    "name": "ipython",
    "version": 3
   },
   "file_extension": ".py",
   "mimetype": "text/x-python",
   "name": "python",
   "nbconvert_exporter": "python",
   "pygments_lexer": "ipython3",
   "version": "3.9.13"
  }
 },
 "nbformat": 4,
 "nbformat_minor": 5
}
