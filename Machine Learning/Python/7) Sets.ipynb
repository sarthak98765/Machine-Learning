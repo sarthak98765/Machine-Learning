{
 "cells": [
  {
   "cell_type": "markdown",
   "id": "089183e4",
   "metadata": {},
   "source": [
    "# Sets\n",
    "A Set is an unorderd collection data type that is iterable,mutable,and has no duplicate elements. Python's set class represents the mathematical notion of a set. This is based on a data structure known as hash table.                   \n",
    "                                      \n",
    "-Contains diff data types                                 \n",
    "-Mutable                                          \n",
    "-No duplicates are allowed                               \n",
    "-No indexing                              \n",
    "-support mathematical operations                         \n",
    "-curly brackets is used {} to define sets"
   ]
  },
  {
   "cell_type": "code",
   "execution_count": 1,
   "id": "abfc71dc",
   "metadata": {},
   "outputs": [
    {
     "name": "stdout",
     "output_type": "stream",
     "text": [
      "set()\n",
      "<class 'set'>\n"
     ]
    }
   ],
   "source": [
    "# Definining an empty set\n",
    "\n",
    "s1=set()\n",
    "print(s1)\n",
    "print(type(s1))"
   ]
  },
  {
   "cell_type": "code",
   "execution_count": 2,
   "id": "88ea15a1",
   "metadata": {},
   "outputs": [
    {
     "data": {
      "text/plain": [
       "{1, 2, 3, 4}"
      ]
     },
     "execution_count": 2,
     "metadata": {},
     "output_type": "execute_result"
    }
   ],
   "source": [
    "s2={1,2,3,4,3}\n",
    "s2                    # no duplicated elements is allowed-one element appeared once"
   ]
  },
  {
   "cell_type": "code",
   "execution_count": 3,
   "id": "cf2ad04f",
   "metadata": {},
   "outputs": [
    {
     "ename": "TypeError",
     "evalue": "'set' object is not subscriptable",
     "output_type": "error",
     "traceback": [
      "\u001b[1;31m---------------------------------------------------------------------------\u001b[0m",
      "\u001b[1;31mTypeError\u001b[0m                                 Traceback (most recent call last)",
      "\u001b[1;32m~\\AppData\\Local\\Temp\\ipykernel_14404\\2825080482.py\u001b[0m in \u001b[0;36m<module>\u001b[1;34m\u001b[0m\n\u001b[1;32m----> 1\u001b[1;33m \u001b[0ms2\u001b[0m\u001b[1;33m[\u001b[0m\u001b[1;36m1\u001b[0m\u001b[1;33m]\u001b[0m\u001b[1;33m\u001b[0m\u001b[1;33m\u001b[0m\u001b[0m\n\u001b[0m",
      "\u001b[1;31mTypeError\u001b[0m: 'set' object is not subscriptable"
     ]
    }
   ],
   "source": [
    "s2[1]                # set doen't support indexing"
   ]
  },
  {
   "cell_type": "code",
   "execution_count": 4,
   "id": "81906c11",
   "metadata": {},
   "outputs": [
    {
     "name": "stdout",
     "output_type": "stream",
     "text": [
      "{1, 2, 3, 4, 'Huii'}\n"
     ]
    }
   ],
   "source": [
    "# Inbuilt functions in sets\n",
    "\n",
    "s2.add(\"Huii\")        #add element is last and can contain multiple dtype\n",
    "print(s2)"
   ]
  },
  {
   "cell_type": "markdown",
   "id": "2b83ee40",
   "metadata": {},
   "source": [
    "# Mathematical operations-Just like sets in maths"
   ]
  },
  {
   "cell_type": "code",
   "execution_count": 5,
   "id": "eddcdeae",
   "metadata": {},
   "outputs": [],
   "source": [
    "set1= {1,2,3,4,5,6}\n",
    "set2= {1,4,7,9}"
   ]
  },
  {
   "cell_type": "code",
   "execution_count": 6,
   "id": "e7408223",
   "metadata": {},
   "outputs": [
    {
     "data": {
      "text/plain": [
       "{7, 9}"
      ]
     },
     "execution_count": 6,
     "metadata": {},
     "output_type": "execute_result"
    }
   ],
   "source": [
    "#set difference\n",
    "set2.difference(set1)         #Just like sets in Maths-temporary"
   ]
  },
  {
   "cell_type": "code",
   "execution_count": 7,
   "id": "c7f7d5cf",
   "metadata": {},
   "outputs": [
    {
     "data": {
      "text/plain": [
       "{1, 4, 7, 9}"
      ]
     },
     "execution_count": 7,
     "metadata": {},
     "output_type": "execute_result"
    }
   ],
   "source": [
    "set2          #No change in set2 even after set diff operation"
   ]
  },
  {
   "cell_type": "code",
   "execution_count": 8,
   "id": "2be0bdce",
   "metadata": {},
   "outputs": [],
   "source": [
    "# Difference Update-permanent\n",
    "set2.difference_update(set1)"
   ]
  },
  {
   "cell_type": "code",
   "execution_count": 9,
   "id": "f9a3babf",
   "metadata": {},
   "outputs": [
    {
     "data": {
      "text/plain": [
       "{7, 9}"
      ]
     },
     "execution_count": 9,
     "metadata": {},
     "output_type": "execute_result"
    }
   ],
   "source": [
    "set2"
   ]
  },
  {
   "cell_type": "code",
   "execution_count": 10,
   "id": "61124a45",
   "metadata": {},
   "outputs": [],
   "source": [
    "set2={1,3,5,8}"
   ]
  },
  {
   "cell_type": "code",
   "execution_count": 11,
   "id": "9c77f310",
   "metadata": {},
   "outputs": [
    {
     "data": {
      "text/plain": [
       "{1, 3, 5}"
      ]
     },
     "execution_count": 11,
     "metadata": {},
     "output_type": "execute_result"
    }
   ],
   "source": [
    "set2.intersection(set1)              # returns common element in set1 and set2"
   ]
  },
  {
   "cell_type": "code",
   "execution_count": 12,
   "id": "1393bc8e",
   "metadata": {},
   "outputs": [
    {
     "data": {
      "text/plain": [
       "{1, 2, 3, 4, 5, 6, 8}"
      ]
     },
     "execution_count": 12,
     "metadata": {},
     "output_type": "execute_result"
    }
   ],
   "source": [
    "set2.union(set1)            # returns every elements of set1 and set2"
   ]
  }
 ],
 "metadata": {
  "kernelspec": {
   "display_name": "Python 3 (ipykernel)",
   "language": "python",
   "name": "python3"
  },
  "language_info": {
   "codemirror_mode": {
    "name": "ipython",
    "version": 3
   },
   "file_extension": ".py",
   "mimetype": "text/x-python",
   "name": "python",
   "nbconvert_exporter": "python",
   "pygments_lexer": "ipython3",
   "version": "3.9.13"
  }
 },
 "nbformat": 4,
 "nbformat_minor": 5
}
