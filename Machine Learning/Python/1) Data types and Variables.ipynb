{
 "cells": [
  {
   "cell_type": "markdown",
   "id": "8b440a9b",
   "metadata": {},
   "source": [
    "# Data Types\n",
    "There are 5 types of dtypes:          \n",
    "1)int             \n",
    "2)float             \n",
    "3)String              \n",
    "4)bool             \n",
    "5)complex   "
   ]
  },
  {
   "cell_type": "code",
   "execution_count": 1,
   "id": "c47c8623",
   "metadata": {},
   "outputs": [
    {
     "data": {
      "text/plain": [
       "int"
      ]
     },
     "execution_count": 1,
     "metadata": {},
     "output_type": "execute_result"
    }
   ],
   "source": [
    "type(7)        #type is used to see dtype \n",
    "#7 is a integer"
   ]
  },
  {
   "cell_type": "code",
   "execution_count": 2,
   "id": "e3c1cc84",
   "metadata": {},
   "outputs": [
    {
     "data": {
      "text/plain": [
       "float"
      ]
     },
     "execution_count": 2,
     "metadata": {},
     "output_type": "execute_result"
    }
   ],
   "source": [
    "type(6.44)\n",
    "#decimal means floating dtype"
   ]
  },
  {
   "cell_type": "code",
   "execution_count": 3,
   "id": "09f593cf",
   "metadata": {},
   "outputs": [
    {
     "data": {
      "text/plain": [
       "str"
      ]
     },
     "execution_count": 3,
     "metadata": {},
     "output_type": "execute_result"
    }
   ],
   "source": [
    "type('hi')\n",
    "#character are string dtype"
   ]
  },
  {
   "cell_type": "code",
   "execution_count": 4,
   "id": "0c64bc20",
   "metadata": {},
   "outputs": [
    {
     "data": {
      "text/plain": [
       "False"
      ]
     },
     "execution_count": 4,
     "metadata": {},
     "output_type": "execute_result"
    }
   ],
   "source": [
    "bool(0)\n",
    "#bool of 0 is false and bool of anything other than 0 is True"
   ]
  },
  {
   "cell_type": "code",
   "execution_count": 5,
   "id": "9d1a5e2e",
   "metadata": {},
   "outputs": [
    {
     "data": {
      "text/plain": [
       "True"
      ]
     },
     "execution_count": 5,
     "metadata": {},
     "output_type": "execute_result"
    }
   ],
   "source": [
    "bool(2)"
   ]
  },
  {
   "cell_type": "code",
   "execution_count": 6,
   "id": "a8b954ce",
   "metadata": {},
   "outputs": [
    {
     "data": {
      "text/plain": [
       "bool"
      ]
     },
     "execution_count": 6,
     "metadata": {},
     "output_type": "execute_result"
    }
   ],
   "source": [
    "type(True)\n",
    "#True and False is of Boolean dtype"
   ]
  },
  {
   "cell_type": "code",
   "execution_count": 7,
   "id": "1fb68c46",
   "metadata": {},
   "outputs": [
    {
     "data": {
      "text/plain": [
       "complex"
      ]
     },
     "execution_count": 7,
     "metadata": {},
     "output_type": "execute_result"
    }
   ],
   "source": [
    "type(4+7j)\n",
    "#any form of a+bj is complex"
   ]
  },
  {
   "cell_type": "markdown",
   "id": "2bd32afe",
   "metadata": {},
   "source": [
    "# Basic operations"
   ]
  },
  {
   "cell_type": "code",
   "execution_count": 8,
   "id": "aefe660d",
   "metadata": {},
   "outputs": [
    {
     "data": {
      "text/plain": [
       "10"
      ]
     },
     "execution_count": 8,
     "metadata": {},
     "output_type": "execute_result"
    }
   ],
   "source": [
    "4+6"
   ]
  },
  {
   "cell_type": "code",
   "execution_count": 9,
   "id": "3180f374",
   "metadata": {},
   "outputs": [
    {
     "data": {
      "text/plain": [
       "56"
      ]
     },
     "execution_count": 9,
     "metadata": {},
     "output_type": "execute_result"
    }
   ],
   "source": [
    "8*7"
   ]
  },
  {
   "cell_type": "code",
   "execution_count": 10,
   "id": "989cad04",
   "metadata": {},
   "outputs": [
    {
     "data": {
      "text/plain": [
       "4.5"
      ]
     },
     "execution_count": 10,
     "metadata": {},
     "output_type": "execute_result"
    }
   ],
   "source": [
    "9/2\n",
    "#Single slash returns value in float"
   ]
  },
  {
   "cell_type": "code",
   "execution_count": 11,
   "id": "91bce76f",
   "metadata": {},
   "outputs": [
    {
     "data": {
      "text/plain": [
       "4"
      ]
     },
     "execution_count": 11,
     "metadata": {},
     "output_type": "execute_result"
    }
   ],
   "source": [
    "9//2\n",
    "#double slash returns value in int"
   ]
  },
  {
   "cell_type": "markdown",
   "id": "2386c9bf",
   "metadata": {},
   "source": [
    "# Taking input in variables\n",
    "There are some rules for variables:            \n",
    "1)Name of a variable should be start with character or underscore, it can't be start with number or any other special character.      \n",
    "2)variable name can't have any empty space                \n",
    "3)Keywords can't be used as variable name            \n",
    "4)special characters like (!,&,%,@,#,^,*) can't be used"
   ]
  },
  {
   "cell_type": "code",
   "execution_count": 12,
   "id": "f03c7835",
   "metadata": {},
   "outputs": [
    {
     "name": "stdout",
     "output_type": "stream",
     "text": [
      "67\n"
     ]
    }
   ],
   "source": [
    "a=input()\n",
    "#syntax of taking input"
   ]
  },
  {
   "cell_type": "code",
   "execution_count": 13,
   "id": "81384e1a",
   "metadata": {},
   "outputs": [
    {
     "data": {
      "text/plain": [
       "str"
      ]
     },
     "execution_count": 13,
     "metadata": {},
     "output_type": "execute_result"
    }
   ],
   "source": [
    "type(a)\n",
    "#Default input variable is string"
   ]
  },
  {
   "cell_type": "code",
   "execution_count": 14,
   "id": "ef1fe676",
   "metadata": {},
   "outputs": [
    {
     "name": "stdout",
     "output_type": "stream",
     "text": [
      "56\n"
     ]
    }
   ],
   "source": [
    "#If we want to change dtype of variable \n",
    "b=int(input())"
   ]
  },
  {
   "cell_type": "code",
   "execution_count": 15,
   "id": "cb7ea98c",
   "metadata": {},
   "outputs": [
    {
     "data": {
      "text/plain": [
       "int"
      ]
     },
     "execution_count": 15,
     "metadata": {},
     "output_type": "execute_result"
    }
   ],
   "source": [
    "type(b)\n",
    "#This method is called implicit typecasting"
   ]
  },
  {
   "cell_type": "code",
   "execution_count": 16,
   "id": "f976467a",
   "metadata": {},
   "outputs": [
    {
     "data": {
      "text/plain": [
       "67"
      ]
     },
     "execution_count": 16,
     "metadata": {},
     "output_type": "execute_result"
    }
   ],
   "source": [
    "int(a)"
   ]
  },
  {
   "cell_type": "code",
   "execution_count": 17,
   "id": "a7c9dbe8",
   "metadata": {},
   "outputs": [
    {
     "data": {
      "text/plain": [
       "str"
      ]
     },
     "execution_count": 17,
     "metadata": {},
     "output_type": "execute_result"
    }
   ],
   "source": [
    "type(a)"
   ]
  },
  {
   "cell_type": "code",
   "execution_count": 18,
   "id": "5436772b",
   "metadata": {},
   "outputs": [
    {
     "data": {
      "text/plain": [
       "int"
      ]
     },
     "execution_count": 18,
     "metadata": {},
     "output_type": "execute_result"
    }
   ],
   "source": [
    "type(int(a))\n",
    "#this typecasting is explicit typecasting"
   ]
  },
  {
   "cell_type": "markdown",
   "id": "a7e070ad",
   "metadata": {},
   "source": [
    "# More in variables"
   ]
  },
  {
   "cell_type": "code",
   "execution_count": 19,
   "id": "3a0f60fe",
   "metadata": {},
   "outputs": [
    {
     "name": "stdout",
     "output_type": "stream",
     "text": [
      "Sarthak\n",
      "Aggarwal\n",
      "SarthakAggarwal\n"
     ]
    }
   ],
   "source": [
    "my_first_name=\"Sarthak\"\n",
    "my_last_name='Aggarwal'        #double and single quote both are same in python\n",
    "print(my_first_name)\n",
    "print(my_last_name)\n",
    "print(my_first_name + my_last_name)          #Adding both varibale adds both strings"
   ]
  },
  {
   "cell_type": "code",
   "execution_count": 20,
   "id": "01e7fd99",
   "metadata": {},
   "outputs": [
    {
     "name": "stdout",
     "output_type": "stream",
     "text": [
      "My First name is Sarthak and my Last name is Aggarwal\n"
     ]
    }
   ],
   "source": [
    "print(\"My First name is {} and my Last name is {}\".format(my_first_name,my_last_name))"
   ]
  }
 ],
 "metadata": {
  "kernelspec": {
   "display_name": "Python 3 (ipykernel)",
   "language": "python",
   "name": "python3"
  },
  "language_info": {
   "codemirror_mode": {
    "name": "ipython",
    "version": 3
   },
   "file_extension": ".py",
   "mimetype": "text/x-python",
   "name": "python",
   "nbconvert_exporter": "python",
   "pygments_lexer": "ipython3",
   "version": "3.9.13"
  }
 },
 "nbformat": 4,
 "nbformat_minor": 5
}
