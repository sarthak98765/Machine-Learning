{
 "cells": [
  {
   "cell_type": "markdown",
   "id": "548ea2a1",
   "metadata": {},
   "source": [
    "# Operators in Python\n",
    "1) Arithmetic Operators                     \n",
    "2) Assignment Operators               \n",
    "3) Comparison Operators                 \n",
    "4) Logical Operators               \n",
    "5) Identity Operators                 \n",
    "6) Membership Operaors              \n",
    "7) Bitwise Operators"
   ]
  },
  {
   "cell_type": "code",
   "execution_count": 1,
   "id": "86f8a6e7",
   "metadata": {},
   "outputs": [
    {
     "name": "stdout",
     "output_type": "stream",
     "text": [
      "Sum = 15\n",
      "Difference = -5\n",
      "Product = 50\n",
      "Division = 0.5\n",
      "Floor = 2\n",
      "Exponent = 100000\n",
      "Modulus = 0\n"
     ]
    }
   ],
   "source": [
    "#Assignment Operator\n",
    "\n",
    "num_1=10\n",
    "num_2=5\n",
    "\n",
    "#Addition\n",
    "sum = num_1 + num_2\n",
    "print('Sum =',sum)\n",
    "\n",
    "#Subtraction\n",
    "diff = num_2 - num_1\n",
    "print('Difference =',diff)\n",
    "\n",
    "#Multiplication\n",
    "prod = num_1 * num_2\n",
    "print('Product =',prod)\n",
    "\n",
    "#Division\n",
    "div = num_2 / num_1\n",
    "print('Division =',div)\n",
    "\n",
    "#Floor\n",
    "floor = num_1 // num_2\n",
    "print('Floor =',floor)            # retruns integer quotient \n",
    "\n",
    "#Exponent\n",
    "exp = num_1**num_2\n",
    "print('Exponent =',exp)           # returns the power\n",
    "\n",
    "#Modulus\n",
    "mod = num_1 % num_2\n",
    "print('Modulus =',mod)            # returns remainder"
   ]
  },
  {
   "cell_type": "code",
   "execution_count": 2,
   "id": "b42c9297",
   "metadata": {},
   "outputs": [
    {
     "name": "stdout",
     "output_type": "stream",
     "text": [
      "5\n",
      "10\n",
      "8\n",
      "12\n",
      "81\n",
      "2.5\n",
      "0\n"
     ]
    }
   ],
   "source": [
    "# Assignment Opeartors\n",
    "\n",
    "a = 5                  # \"=\" is assignment operator\n",
    "print(a)\n",
    "\n",
    "a = 5\n",
    "a += 5                 # \"+=\" means a= a+5\n",
    "print(a)\n",
    "\n",
    "b = 10\n",
    "b -= 2                 # \"-=\" means b= b-2\n",
    "print(b)\n",
    "\n",
    "c = 3\n",
    "c *= 4                # c= c*4\n",
    "print(c)\n",
    "\n",
    "c = 3\n",
    "c **= 4               # c= c^4\n",
    "print(c)\n",
    "\n",
    "c = 5\n",
    "c /= 2                # c= c/2\n",
    "print(c)\n",
    "\n",
    "c = 12\n",
    "c %=3                # c= c%3\n",
    "print(c)"
   ]
  },
  {
   "cell_type": "code",
   "execution_count": 3,
   "id": "189f556e",
   "metadata": {},
   "outputs": [
    {
     "name": "stdout",
     "output_type": "stream",
     "text": [
      "False\n",
      "True\n",
      "False\n",
      "True\n",
      "True\n",
      "False\n"
     ]
    }
   ],
   "source": [
    "# Comparison Operators - returns either true or false\n",
    "\n",
    "a = 5\n",
    "b = 10\n",
    "\n",
    "print(a == b)       #equal to\n",
    "print(a != b)       #not equal to\n",
    "print(a > b)        #greater than\n",
    "print(a < b)        #less than\n",
    "print(a <= b)       #less than equal to\n",
    "print(a >= b)       #greater than equal to"
   ]
  },
  {
   "cell_type": "code",
   "execution_count": 4,
   "id": "2660d997",
   "metadata": {},
   "outputs": [
    {
     "name": "stdout",
     "output_type": "stream",
     "text": [
      "False\n",
      "True\n",
      "True\n",
      "False\n",
      "False\n"
     ]
    }
   ],
   "source": [
    "# Logical Operators\n",
    "\n",
    "a = 10\n",
    "\n",
    "#and\n",
    "print( a>20 and a<10)\n",
    "print( a <=10 and a>8)       #True if both are true\n",
    "\n",
    "#or\n",
    "print( a>9 or a>30)\n",
    "print( a>20 or a==12)        #True if either one is true\n",
    "\n",
    "#not\n",
    "print( not(a>5))             #returns opposite"
   ]
  },
  {
   "cell_type": "code",
   "execution_count": 5,
   "id": "858b3f3b",
   "metadata": {},
   "outputs": [
    {
     "name": "stdout",
     "output_type": "stream",
     "text": [
      "True\n",
      "False\n"
     ]
    }
   ],
   "source": [
    "# Identity Opeartors\n",
    "\n",
    "x = 5\n",
    "y = 5\n",
    "\n",
    "#is\n",
    "print(x is y)         #Returns true if both are same\n",
    "\n",
    "#is not\n",
    "print(x is not y)"
   ]
  },
  {
   "cell_type": "code",
   "execution_count": 6,
   "id": "a8e33ed9",
   "metadata": {},
   "outputs": [
    {
     "name": "stdout",
     "output_type": "stream",
     "text": [
      "True\n",
      "False\n",
      "False\n",
      "True\n"
     ]
    }
   ],
   "source": [
    "# Membership Operators\n",
    "\n",
    "a = 5\n",
    "b = 10\n",
    "c = [1,2,3,4,5]\n",
    "\n",
    "# in\n",
    "print(a in c)\n",
    "print(a not in c)            #true if element is in the object\n",
    " \n",
    "# not in\n",
    "print(b in c)\n",
    "print(b not in c)"
   ]
  },
  {
   "cell_type": "code",
   "execution_count": 7,
   "id": "2f17e86f",
   "metadata": {},
   "outputs": [
    {
     "name": "stdout",
     "output_type": "stream",
     "text": [
      "2\n",
      "7\n",
      "5\n",
      "-4\n",
      "-7\n"
     ]
    }
   ],
   "source": [
    "#Bitwise Operators - Check each bit at each place\n",
    "\n",
    "a=3       #3=011\n",
    "b=6       #6=110\n",
    "\n",
    "# and- returns 1 if both are 1\n",
    "print(a&b)           #010=2\n",
    "\n",
    "# or- returns 1 if either is 1\n",
    "print(a|b)           #111=7\n",
    "\n",
    "# X-OR- returns 1 if only one of the two bits is 1\n",
    "print(a^b)           #101=5\n",
    "\n",
    "# Not- ~n=-(n+1)\n",
    "print(~a)\n",
    "print(~b)"
   ]
  }
 ],
 "metadata": {
  "kernelspec": {
   "display_name": "Python 3 (ipykernel)",
   "language": "python",
   "name": "python3"
  },
  "language_info": {
   "codemirror_mode": {
    "name": "ipython",
    "version": 3
   },
   "file_extension": ".py",
   "mimetype": "text/x-python",
   "name": "python",
   "nbconvert_exporter": "python",
   "pygments_lexer": "ipython3",
   "version": "3.9.13"
  }
 },
 "nbformat": 4,
 "nbformat_minor": 5
}
