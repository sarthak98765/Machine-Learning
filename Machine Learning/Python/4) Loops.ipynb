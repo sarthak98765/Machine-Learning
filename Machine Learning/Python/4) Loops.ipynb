{
 "cells": [
  {
   "cell_type": "markdown",
   "id": "38a38043",
   "metadata": {},
   "source": [
    "# Loops\n",
    "If we want to automate a repetitive process, we can use loops to do that. A\n",
    "loop is a programming structure that executes the same code over and over\n",
    "again, as long as a certain condition is met."
   ]
  },
  {
   "cell_type": "code",
   "execution_count": 1,
   "id": "c310e0a8",
   "metadata": {},
   "outputs": [
    {
     "name": "stdout",
     "output_type": "stream",
     "text": [
      "1\n",
      "2\n",
      "3\n",
      "4\n",
      "5\n",
      "6\n",
      "7\n",
      "8\n",
      "9\n",
      "10\n"
     ]
    }
   ],
   "source": [
    "# While loop\n",
    "\n",
    "number = 0\n",
    "while number < 10 :        # execute until condition is true\n",
    "    number += 1\n",
    "    print (number)"
   ]
  },
  {
   "cell_type": "code",
   "execution_count": 2,
   "id": "4171fac5",
   "metadata": {},
   "outputs": [
    {
     "name": "stdout",
     "output_type": "stream",
     "text": [
      "1\n",
      "2\n",
      "3\n",
      "5\n",
      "6\n",
      "7\n"
     ]
    }
   ],
   "source": [
    "number = 0\n",
    "while number < 10 :\n",
    "    number += 1\n",
    "    if number==4:\n",
    "        continue     # it skips the value\n",
    "    if number==6:\n",
    "        pass         # it do nothing just helps in running scripts\n",
    "    if number==8:\n",
    "        break        # break the flow of loop\n",
    "    print (number)"
   ]
  },
  {
   "cell_type": "code",
   "execution_count": 3,
   "id": "4a7fb12b",
   "metadata": {},
   "outputs": [],
   "source": [
    "#while True :\n",
    "#print ( \"This will print forever\" )         # it is a endless loop as it is always true"
   ]
  },
  {
   "cell_type": "code",
   "execution_count": 4,
   "id": "8cffd969",
   "metadata": {},
   "outputs": [
    {
     "name": "stdout",
     "output_type": "stream",
     "text": [
      "10\n",
      "20\n",
      "30\n",
      "40\n"
     ]
    }
   ],
   "source": [
    "# for loop\n",
    "\n",
    "numbers = [ 10 , 20 , 30 , 40 ]\n",
    "for number in numbers:\n",
    "    print (number)"
   ]
  },
  {
   "cell_type": "code",
   "execution_count": 5,
   "id": "1f5e4991",
   "metadata": {},
   "outputs": [
    {
     "name": "stdout",
     "output_type": "stream",
     "text": [
      "10\n",
      "11\n",
      "12\n",
      "13\n",
      "14\n"
     ]
    }
   ],
   "source": [
    "# range function \n",
    "\n",
    "for i in range(10,15):\n",
    "    print(i)"
   ]
  }
 ],
 "metadata": {
  "kernelspec": {
   "display_name": "Python 3 (ipykernel)",
   "language": "python",
   "name": "python3"
  },
  "language_info": {
   "codemirror_mode": {
    "name": "ipython",
    "version": 3
   },
   "file_extension": ".py",
   "mimetype": "text/x-python",
   "name": "python",
   "nbconvert_exporter": "python",
   "pygments_lexer": "ipython3",
   "version": "3.9.13"
  }
 },
 "nbformat": 4,
 "nbformat_minor": 5
}
