{
 "cells": [
  {
   "cell_type": "markdown",
   "id": "c423d246",
   "metadata": {},
   "source": [
    "# Strings\n",
    "In python, Strings are a sequence of unicode characters                                                                                                                                      \n",
    "-Strings are immutable"
   ]
  },
  {
   "cell_type": "code",
   "execution_count": 1,
   "id": "1e4570d8",
   "metadata": {},
   "outputs": [
    {
     "name": "stdout",
     "output_type": "stream",
     "text": [
      "hello\n"
     ]
    },
    {
     "data": {
      "text/plain": [
       "str"
      ]
     },
     "execution_count": 1,
     "metadata": {},
     "output_type": "execute_result"
    }
   ],
   "source": [
    "# Creating strings\n",
    "\n",
    "a='hello'\n",
    "print(a)\n",
    "type(a)"
   ]
  },
  {
   "cell_type": "code",
   "execution_count": 2,
   "id": "fe0c0d05",
   "metadata": {},
   "outputs": [
    {
     "name": "stdout",
     "output_type": "stream",
     "text": [
      "l\n",
      "r\n"
     ]
    }
   ],
   "source": [
    "# Accessing strings from a string\n",
    "\n",
    "b=\"Hello all I am Sarthak Aggarwal\"\n",
    "\n",
    "print(b[3])      # prints 4th string\n",
    "print(b[-4])     # orints last 4th string"
   ]
  },
  {
   "cell_type": "code",
   "execution_count": 3,
   "id": "4ea6424e",
   "metadata": {},
   "outputs": [
    {
     "name": "stdout",
     "output_type": "stream",
     "text": [
      "loalIa \n"
     ]
    }
   ],
   "source": [
    "# string slicing\n",
    "\n",
    "print(b[2:16:2])    # [start index:end index:gap b/w index]"
   ]
  },
  {
   "cell_type": "code",
   "execution_count": 4,
   "id": "ea835dee",
   "metadata": {},
   "outputs": [
    {
     "name": "stdout",
     "output_type": "stream",
     "text": [
      "lawraggA kahtraS ma I lla olleH\n"
     ]
    }
   ],
   "source": [
    "print(b[::-1])      # it just reverse the string"
   ]
  },
  {
   "cell_type": "code",
   "execution_count": 5,
   "id": "33c25258",
   "metadata": {},
   "outputs": [],
   "source": [
    "# editing and deleting \n",
    "\n",
    "del a"
   ]
  },
  {
   "cell_type": "markdown",
   "id": "816f1b0b",
   "metadata": {},
   "source": [
    "since, strings are immutable, so they can't be edited. only we can delete them completely"
   ]
  },
  {
   "cell_type": "code",
   "execution_count": 6,
   "id": "3e345169",
   "metadata": {},
   "outputs": [
    {
     "ename": "NameError",
     "evalue": "name 'a' is not defined",
     "output_type": "error",
     "traceback": [
      "\u001b[1;31m---------------------------------------------------------------------------\u001b[0m",
      "\u001b[1;31mNameError\u001b[0m                                 Traceback (most recent call last)",
      "\u001b[1;32m~\\AppData\\Local\\Temp\\ipykernel_18064\\1189138062.py\u001b[0m in \u001b[0;36m<module>\u001b[1;34m\u001b[0m\n\u001b[1;32m----> 1\u001b[1;33m \u001b[0mprint\u001b[0m\u001b[1;33m(\u001b[0m\u001b[0ma\u001b[0m\u001b[1;33m)\u001b[0m\u001b[1;33m\u001b[0m\u001b[1;33m\u001b[0m\u001b[0m\n\u001b[0m",
      "\u001b[1;31mNameError\u001b[0m: name 'a' is not defined"
     ]
    }
   ],
   "source": [
    "print(a)"
   ]
  },
  {
   "cell_type": "markdown",
   "id": "1644a07e",
   "metadata": {},
   "source": [
    "# Operations in strings"
   ]
  },
  {
   "cell_type": "code",
   "execution_count": 7,
   "id": "aea2726f",
   "metadata": {},
   "outputs": [
    {
     "name": "stdout",
     "output_type": "stream",
     "text": [
      "helloworld\n",
      "hello-world\n",
      "$$$$$$$$$$$$$$$$$$$$\n"
     ]
    }
   ],
   "source": [
    "# Arithmetic Operators\n",
    "\n",
    "print(\"hello\"+\"world\")\n",
    "print(\"hello\"+\"-\"+\"world\")\n",
    "print(\"$\"*20)"
   ]
  },
  {
   "cell_type": "code",
   "execution_count": 8,
   "id": "a7f3f7fb",
   "metadata": {},
   "outputs": [
    {
     "data": {
      "text/plain": [
       "False"
      ]
     },
     "execution_count": 8,
     "metadata": {},
     "output_type": "execute_result"
    }
   ],
   "source": [
    "#Relational Operators- based on Lexiographically( Dictionary mei jo word pehle aayega wo small hoga)\n",
    "\n",
    "\"hello\"==\"world\""
   ]
  },
  {
   "cell_type": "code",
   "execution_count": 9,
   "id": "9e6a7915",
   "metadata": {},
   "outputs": [
    {
     "data": {
      "text/plain": [
       "False"
      ]
     },
     "execution_count": 9,
     "metadata": {},
     "output_type": "execute_result"
    }
   ],
   "source": [
    "\"mumbai\">\"pune\""
   ]
  },
  {
   "cell_type": "code",
   "execution_count": 10,
   "id": "1b470877",
   "metadata": {},
   "outputs": [
    {
     "data": {
      "text/plain": [
       "True"
      ]
     },
     "execution_count": 10,
     "metadata": {},
     "output_type": "execute_result"
    }
   ],
   "source": [
    "\"absolute\"<\"yoyo\""
   ]
  },
  {
   "cell_type": "code",
   "execution_count": 11,
   "id": "d5f329fd",
   "metadata": {},
   "outputs": [
    {
     "data": {
      "text/plain": [
       "''"
      ]
     },
     "execution_count": 11,
     "metadata": {},
     "output_type": "execute_result"
    }
   ],
   "source": [
    "# Logical Operators- \"\" -False        \"hi\"-True\n",
    "\n",
    "\"\" and \"hi\"     # false and true-false"
   ]
  },
  {
   "cell_type": "code",
   "execution_count": 12,
   "id": "b0d19878",
   "metadata": {},
   "outputs": [
    {
     "data": {
      "text/plain": [
       "'hi'"
      ]
     },
     "execution_count": 12,
     "metadata": {},
     "output_type": "execute_result"
    }
   ],
   "source": [
    "\"\" or \"hi\"      #false or true-true"
   ]
  },
  {
   "cell_type": "code",
   "execution_count": 13,
   "id": "a593bd60",
   "metadata": {},
   "outputs": [
    {
     "data": {
      "text/plain": [
       "'hello'"
      ]
     },
     "execution_count": 13,
     "metadata": {},
     "output_type": "execute_result"
    }
   ],
   "source": [
    "\"hello\" or \"hi\"    #prints where it gets true so hello"
   ]
  },
  {
   "cell_type": "code",
   "execution_count": 14,
   "id": "c8613491",
   "metadata": {},
   "outputs": [
    {
     "data": {
      "text/plain": [
       "'hi'"
      ]
     },
     "execution_count": 14,
     "metadata": {},
     "output_type": "execute_result"
    }
   ],
   "source": [
    "\"hello\" and \"hi\"      # get true after hi"
   ]
  },
  {
   "cell_type": "code",
   "execution_count": 15,
   "id": "3704b6e9",
   "metadata": {},
   "outputs": [
    {
     "name": "stdout",
     "output_type": "stream",
     "text": [
      "d\n",
      "l\n",
      "r\n",
      "o\n",
      "w\n",
      " \n",
      "o\n",
      "l\n",
      "l\n",
      "l\n",
      "e\n",
      "h\n"
     ]
    }
   ],
   "source": [
    "# Loops on strings\n",
    "\n",
    "c=\"helllo world\"\n",
    "for i in c[::-1]:\n",
    "    print(i)"
   ]
  },
  {
   "cell_type": "code",
   "execution_count": 16,
   "id": "8a07d36c",
   "metadata": {},
   "outputs": [
    {
     "data": {
      "text/plain": [
       "False"
      ]
     },
     "execution_count": 16,
     "metadata": {},
     "output_type": "execute_result"
    }
   ],
   "source": [
    "# Membership Operators\n",
    "\n",
    "\"hi\" in c"
   ]
  },
  {
   "cell_type": "code",
   "execution_count": 17,
   "id": "5c29c13b",
   "metadata": {},
   "outputs": [
    {
     "data": {
      "text/plain": [
       "True"
      ]
     },
     "execution_count": 17,
     "metadata": {},
     "output_type": "execute_result"
    }
   ],
   "source": [
    "\"h\" in c"
   ]
  },
  {
   "cell_type": "markdown",
   "id": "770cba53",
   "metadata": {},
   "source": [
    "# Escape characters\n",
    "\\t-tab              \n",
    "\\n-new line                   \n",
    "\\b-backspace               \n",
    "\\\\-\\"
   ]
  },
  {
   "cell_type": "code",
   "execution_count": 18,
   "id": "5519068d",
   "metadata": {},
   "outputs": [
    {
     "name": "stdout",
     "output_type": "stream",
     "text": [
      "hello\tworld\n",
      "hello\n",
      "world\n",
      "hello\bworld\n",
      "hello\\world\n"
     ]
    }
   ],
   "source": [
    "print(\"hello\\tworld\")\n",
    "print(\"hello\\nworld\")\n",
    "print(\"hello\\bworld\")\n",
    "print(\"hello\\\\world\")"
   ]
  },
  {
   "cell_type": "markdown",
   "id": "83488414",
   "metadata": {},
   "source": [
    "# String Case Manipulative Function"
   ]
  },
  {
   "cell_type": "code",
   "execution_count": 19,
   "id": "98794309",
   "metadata": {},
   "outputs": [
    {
     "name": "stdout",
     "output_type": "stream",
     "text": [
      "hilo kaiso ho sab\n",
      "HILO KAISO HO SAB\n",
      "Hilo Kaiso Ho Sab\n",
      "Hilo kaiso ho sab\n",
      "hIlO KaISo ho SAb\n"
     ]
    }
   ],
   "source": [
    "Text=\"HiLo kAisO HO saB\"\n",
    "\n",
    "# string.lower()- Converts all letters to lowercase\n",
    "print(Text.lower())\n",
    "\n",
    "# string.upper()- Converts all letters to uppercase\n",
    "print(Text.upper())\n",
    "\n",
    "# string.title()- Converts all letters to titlecase\n",
    "print(Text.title())\n",
    "\n",
    "# string.capitalize()- Converts first letter to uppercase\n",
    "print(Text.capitalize())\n",
    "\n",
    "#string.swapcase()- Swaps the cases of all letters\n",
    "print(Text.swapcase())"
   ]
  },
  {
   "cell_type": "markdown",
   "id": "0ea79075",
   "metadata": {},
   "source": [
    "# Functions in string"
   ]
  },
  {
   "cell_type": "code",
   "execution_count": 20,
   "id": "d3e6a998",
   "metadata": {},
   "outputs": [
    {
     "name": "stdout",
     "output_type": "stream",
     "text": [
      "4\n"
     ]
    }
   ],
   "source": [
    "# Count function- Counts how many time a specific string occur\n",
    "\n",
    "Text=\"HiiKii\"\n",
    "print(Text.count(\"i\"))"
   ]
  },
  {
   "cell_type": "code",
   "execution_count": 21,
   "id": "8906238d",
   "metadata": {},
   "outputs": [
    {
     "data": {
      "text/plain": [
       "3"
      ]
     },
     "execution_count": 21,
     "metadata": {},
     "output_type": "execute_result"
    }
   ],
   "source": [
    "# find function- It prints the index number where that first string occur\n",
    "\n",
    "Text.find(\"K\")"
   ]
  },
  {
   "cell_type": "code",
   "execution_count": 22,
   "id": "7756124a",
   "metadata": {},
   "outputs": [
    {
     "name": "stdout",
     "output_type": "stream",
     "text": [
      "Dhoni---Kohli---Rohit\n"
     ]
    }
   ],
   "source": [
    "# Join function- We can join string by using a unique separation\n",
    "\n",
    "names=[\"Dhoni\",\"Kohli\",\"Rohit\"]\n",
    "sep= \"---\"\n",
    "print(sep.join(names))"
   ]
  },
  {
   "cell_type": "code",
   "execution_count": 23,
   "id": "dcb924c3",
   "metadata": {},
   "outputs": [
    {
     "name": "stdout",
     "output_type": "stream",
     "text": [
      "Hii Guymz\n"
     ]
    }
   ],
   "source": [
    "# Replace function- It replaces a string with another string\n",
    "\n",
    "Text=\"Hii Guykz\"\n",
    "print(Text.replace(\"k\",\"m\"))"
   ]
  },
  {
   "cell_type": "code",
   "execution_count": 24,
   "id": "a20456c5",
   "metadata": {},
   "outputs": [
    {
     "name": "stdout",
     "output_type": "stream",
     "text": [
      "['anna', 'john', 'mary']\n"
     ]
    }
   ],
   "source": [
    "# split function- It Splits specific part of a string and put them in a list\n",
    "\n",
    "name=\"anna,john,mary\"\n",
    "print(name.split(\",\"))"
   ]
  }
 ],
 "metadata": {
  "kernelspec": {
   "display_name": "Python 3 (ipykernel)",
   "language": "python",
   "name": "python3"
  },
  "language_info": {
   "codemirror_mode": {
    "name": "ipython",
    "version": 3
   },
   "file_extension": ".py",
   "mimetype": "text/x-python",
   "name": "python",
   "nbconvert_exporter": "python",
   "pygments_lexer": "ipython3",
   "version": "3.9.13"
  }
 },
 "nbformat": 4,
 "nbformat_minor": 5
}
