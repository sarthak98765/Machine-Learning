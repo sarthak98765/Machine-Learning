{
 "cells": [
  {
   "cell_type": "markdown",
   "id": "6909227f",
   "metadata": {},
   "source": [
    "# Lists\n",
    "A list is a data structure in Python that is mutable, or Changeable, ordered sequence of elements. Each elements or value that is inside of a list is called an item. Just as strings are defined as characters between quotes, lists are defined by having values between square bracket.                 \n",
    "                           \n",
    "-Can contains different data types                    \n",
    "-Mutable                     \n",
    "-Indexing is there                     \n",
    "-Duplicate elements are allowed."
   ]
  },
  {
   "cell_type": "code",
   "execution_count": 1,
   "id": "159fd40f",
   "metadata": {},
   "outputs": [],
   "source": [
    "# List vs Array"
   ]
  },
  {
   "cell_type": "markdown",
   "id": "e21b9767",
   "metadata": {},
   "source": [
    "Array is Homogenous- One Data type            \n",
    "list is heterogenous- Multiple Dtype         \n",
    "\n",
    "Arrays are much faster           \n",
    "List are more programmer friendly"
   ]
  },
  {
   "cell_type": "code",
   "execution_count": 2,
   "id": "01685c6c",
   "metadata": {},
   "outputs": [
    {
     "name": "stdout",
     "output_type": "stream",
     "text": [
      "[]\n",
      "[1, 2, 3, 4, 5]\n",
      "[1, 'hi', 6.7]\n"
     ]
    },
    {
     "data": {
      "text/plain": [
       "list"
      ]
     },
     "execution_count": 2,
     "metadata": {},
     "output_type": "execute_result"
    }
   ],
   "source": [
    "# How to Create a List\n",
    "\n",
    "L1=[]        #empty list\n",
    "\n",
    "L2=[1,2,3,4,5]       #List having int dtype elements\n",
    "\n",
    "L3=[1,'hi',6.7]      #List having multiple dtype\n",
    "\n",
    "print(L1)\n",
    "print(L2)\n",
    "print(L3)\n",
    "type(L1)"
   ]
  },
  {
   "cell_type": "code",
   "execution_count": 3,
   "id": "49e04cb0",
   "metadata": {},
   "outputs": [
    {
     "name": "stdout",
     "output_type": "stream",
     "text": [
      "[1, 2, [3, 4]]\n",
      "[[[1, 2], [3, 4]], [[5, 6], [7, 8]]]\n"
     ]
    }
   ],
   "source": [
    "# Creating Multi-Dimensional List\n",
    "\n",
    "L4=[1,2,[3,4]]       #2d list\n",
    "\n",
    "L5=[[[1,2],[3,4]],[[5,6],[7,8]]]       #3-d list\n",
    "\n",
    "print(L4)\n",
    "print(L5)"
   ]
  },
  {
   "cell_type": "code",
   "execution_count": 4,
   "id": "31d9b6d1",
   "metadata": {},
   "outputs": [
    {
     "data": {
      "text/plain": [
       "['h', 'a', 'l', 'd', 'i', 'a']"
      ]
     },
     "execution_count": 4,
     "metadata": {},
     "output_type": "execute_result"
    }
   ],
   "source": [
    "l=list(\"haldia\")\n",
    "l               "
   ]
  },
  {
   "cell_type": "code",
   "execution_count": 5,
   "id": "9a588c0c",
   "metadata": {},
   "outputs": [
    {
     "name": "stdout",
     "output_type": "stream",
     "text": [
      "3\n",
      "[1, 3]\n"
     ]
    }
   ],
   "source": [
    "# Indexing and slicing\n",
    "\n",
    "print(L2[2])        #print 3rd element in L2 list\n",
    "\n",
    "print(L2[0:4:2])   # [a:b:c]-  a=starting index, b=ending index, c=gap between index"
   ]
  },
  {
   "cell_type": "code",
   "execution_count": 6,
   "id": "0b6570d7",
   "metadata": {},
   "outputs": [
    {
     "name": "stdout",
     "output_type": "stream",
     "text": [
      "[100, 2, 3, 4, 5]\n"
     ]
    }
   ],
   "source": [
    "# Editing in List- Since list are mutable so we can change them\n",
    "\n",
    "L2[0]=100\n",
    "print(L2)        # Replace 0th index element with new element"
   ]
  },
  {
   "cell_type": "code",
   "execution_count": 7,
   "id": "1c0c8bc9",
   "metadata": {},
   "outputs": [
    {
     "name": "stdout",
     "output_type": "stream",
     "text": [
      "[100, 200, 300, 400, 500]\n"
     ]
    }
   ],
   "source": [
    "L2[1:5]=[200,300,400,500]\n",
    "print(L2)                #Raplace the elements"
   ]
  },
  {
   "cell_type": "markdown",
   "id": "dc45e449",
   "metadata": {},
   "source": [
    "# Adding Elements in list"
   ]
  },
  {
   "cell_type": "code",
   "execution_count": 8,
   "id": "629f9f58",
   "metadata": {},
   "outputs": [
    {
     "name": "stdout",
     "output_type": "stream",
     "text": [
      "[1, 2, 3, 4, 5, 6, 7, 10]\n"
     ]
    }
   ],
   "source": [
    "# append- Adds items in last\n",
    "\n",
    "L6=[1,2,3,4,5,6,7]\n",
    "L6.append(10)        #add 10 at last\n",
    "print(L6)"
   ]
  },
  {
   "cell_type": "code",
   "execution_count": 9,
   "id": "5ed37a4e",
   "metadata": {},
   "outputs": [
    {
     "name": "stdout",
     "output_type": "stream",
     "text": [
      "[1, 2, 3, 4, 5, 6, 7, 10, 'hi', 'hlo', 11]\n"
     ]
    }
   ],
   "source": [
    "# extend- Adds multiple items in last\n",
    "\n",
    "L6.extend(['hi','hlo',11])\n",
    "print(L6)"
   ]
  },
  {
   "cell_type": "code",
   "execution_count": 10,
   "id": "ffd15183",
   "metadata": {},
   "outputs": [
    {
     "data": {
      "text/plain": [
       "[1, 2, 3, 'ok', 4, 5, 6, 7, 10, 'hi', 'hlo', 11]"
      ]
     },
     "execution_count": 10,
     "metadata": {},
     "output_type": "execute_result"
    }
   ],
   "source": [
    "# insert- we can add element at a specific index\n",
    "\n",
    "L6.insert(3,\"ok\")     #add ok at 4th position\n",
    "L6"
   ]
  },
  {
   "cell_type": "markdown",
   "id": "7c2b985c",
   "metadata": {},
   "source": [
    "# Deleting items from list"
   ]
  },
  {
   "cell_type": "code",
   "execution_count": 11,
   "id": "818fa3de",
   "metadata": {},
   "outputs": [],
   "source": [
    "# del- delete complete list\n",
    "\n",
    "del L6      # L6 is now deleted"
   ]
  },
  {
   "cell_type": "code",
   "execution_count": 12,
   "id": "2b49df13",
   "metadata": {},
   "outputs": [
    {
     "ename": "NameError",
     "evalue": "name 'L6' is not defined",
     "output_type": "error",
     "traceback": [
      "\u001b[1;31m---------------------------------------------------------------------------\u001b[0m",
      "\u001b[1;31mNameError\u001b[0m                                 Traceback (most recent call last)",
      "\u001b[1;32m~\\AppData\\Local\\Temp\\ipykernel_18968\\1164474594.py\u001b[0m in \u001b[0;36m<module>\u001b[1;34m\u001b[0m\n\u001b[1;32m----> 1\u001b[1;33m \u001b[0mL6\u001b[0m       \u001b[1;31m# L6 is not defined\u001b[0m\u001b[1;33m\u001b[0m\u001b[1;33m\u001b[0m\u001b[0m\n\u001b[0m",
      "\u001b[1;31mNameError\u001b[0m: name 'L6' is not defined"
     ]
    }
   ],
   "source": [
    "L6       # L6 is not defined"
   ]
  },
  {
   "cell_type": "code",
   "execution_count": 13,
   "id": "82ed1906",
   "metadata": {},
   "outputs": [
    {
     "data": {
      "text/plain": [
       "[1, 3, 4, 5]"
      ]
     },
     "execution_count": 13,
     "metadata": {},
     "output_type": "execute_result"
    }
   ],
   "source": [
    "#del with index\n",
    "\n",
    "L7=[1,2,3,4,5]\n",
    "\n",
    "del L7[1]      # delete 2 of L7\n",
    "\n",
    "L7"
   ]
  },
  {
   "cell_type": "code",
   "execution_count": 14,
   "id": "8c47086b",
   "metadata": {},
   "outputs": [
    {
     "data": {
      "text/plain": [
       "[1, 0, 'hi', 87]"
      ]
     },
     "execution_count": 14,
     "metadata": {},
     "output_type": "execute_result"
    }
   ],
   "source": [
    "# remove- write item name to delete\n",
    "\n",
    "L8=[1,5,0,'hi',87]\n",
    "L8.remove(5)      #remove 5\n",
    "L8"
   ]
  },
  {
   "cell_type": "code",
   "execution_count": 15,
   "id": "ad07c1bd",
   "metadata": {},
   "outputs": [
    {
     "data": {
      "text/plain": [
       "87"
      ]
     },
     "execution_count": 15,
     "metadata": {},
     "output_type": "execute_result"
    }
   ],
   "source": [
    "# pop- remove last element\n",
    "L8.pop()"
   ]
  },
  {
   "cell_type": "code",
   "execution_count": 16,
   "id": "8a22c245",
   "metadata": {},
   "outputs": [
    {
     "data": {
      "text/plain": [
       "[]"
      ]
     },
     "execution_count": 16,
     "metadata": {},
     "output_type": "execute_result"
    }
   ],
   "source": [
    "# clear- empty the list\n",
    "L8.clear()\n",
    "L8"
   ]
  },
  {
   "cell_type": "markdown",
   "id": "7dd747d0",
   "metadata": {},
   "source": [
    "# Operations in list"
   ]
  },
  {
   "cell_type": "code",
   "execution_count": 17,
   "id": "c4abd368",
   "metadata": {},
   "outputs": [
    {
     "name": "stdout",
     "output_type": "stream",
     "text": [
      "[1, 2, 3, 4, 5, 6, 7, 8]\n",
      "[1, 2, 3, 4, 1, 2, 3, 4, 1, 2, 3, 4]\n"
     ]
    }
   ],
   "source": [
    "l1=[1,2,3,4]\n",
    "l2=[5,6,7,8]\n",
    "\n",
    "print(l1 + l2)       #make a single list\n",
    "\n",
    "print(l1*3)          #repeat elemnts of l1 thrice"
   ]
  },
  {
   "cell_type": "code",
   "execution_count": 18,
   "id": "9cda85e8",
   "metadata": {},
   "outputs": [
    {
     "data": {
      "text/plain": [
       "True"
      ]
     },
     "execution_count": 18,
     "metadata": {},
     "output_type": "execute_result"
    }
   ],
   "source": [
    "4 in l1"
   ]
  },
  {
   "cell_type": "code",
   "execution_count": 19,
   "id": "b4227931",
   "metadata": {},
   "outputs": [
    {
     "data": {
      "text/plain": [
       "False"
      ]
     },
     "execution_count": 19,
     "metadata": {},
     "output_type": "execute_result"
    }
   ],
   "source": [
    "5 in l1"
   ]
  },
  {
   "cell_type": "markdown",
   "id": "6c37c0a5",
   "metadata": {},
   "source": [
    "# Functions in list"
   ]
  },
  {
   "cell_type": "code",
   "execution_count": 20,
   "id": "cbeeada7",
   "metadata": {},
   "outputs": [
    {
     "data": {
      "text/plain": [
       "4"
      ]
     },
     "execution_count": 20,
     "metadata": {},
     "output_type": "execute_result"
    }
   ],
   "source": [
    "len(l1)       #tells about number of elements"
   ]
  },
  {
   "cell_type": "code",
   "execution_count": 21,
   "id": "2fac07b4",
   "metadata": {},
   "outputs": [
    {
     "data": {
      "text/plain": [
       "1"
      ]
     },
     "execution_count": 21,
     "metadata": {},
     "output_type": "execute_result"
    }
   ],
   "source": [
    "min(l1)       # smallest number"
   ]
  },
  {
   "cell_type": "code",
   "execution_count": 22,
   "id": "edf3be1e",
   "metadata": {},
   "outputs": [
    {
     "data": {
      "text/plain": [
       "4"
      ]
     },
     "execution_count": 22,
     "metadata": {},
     "output_type": "execute_result"
    }
   ],
   "source": [
    "max(l1)       # largest element"
   ]
  },
  {
   "cell_type": "code",
   "execution_count": 23,
   "id": "c2b855a5",
   "metadata": {},
   "outputs": [
    {
     "data": {
      "text/plain": [
       "[2, 6, 3, 9, 7, 17, 34, 1]"
      ]
     },
     "execution_count": 23,
     "metadata": {},
     "output_type": "execute_result"
    }
   ],
   "source": [
    "l3=[2,6,3,9,7,17,34,1]\n",
    "l3"
   ]
  },
  {
   "cell_type": "code",
   "execution_count": 24,
   "id": "8919bfa3",
   "metadata": {},
   "outputs": [
    {
     "data": {
      "text/plain": [
       "[34, 17, 9, 7, 6, 3, 2, 1]"
      ]
     },
     "execution_count": 24,
     "metadata": {},
     "output_type": "execute_result"
    }
   ],
   "source": [
    "sorted(l3,reverse=True)       # sort in decreasing order but it is temporary"
   ]
  },
  {
   "cell_type": "code",
   "execution_count": 25,
   "id": "18dedcf7",
   "metadata": {},
   "outputs": [
    {
     "data": {
      "text/plain": [
       "[2, 6, 3, 9, 7, 17, 34, 1]"
      ]
     },
     "execution_count": 25,
     "metadata": {},
     "output_type": "execute_result"
    }
   ],
   "source": [
    "l3"
   ]
  },
  {
   "cell_type": "code",
   "execution_count": 26,
   "id": "666d4ea4",
   "metadata": {},
   "outputs": [
    {
     "data": {
      "text/plain": [
       "[1, 2, 3, 6, 7, 9, 17, 34]"
      ]
     },
     "execution_count": 26,
     "metadata": {},
     "output_type": "execute_result"
    }
   ],
   "source": [
    "sorted(l3)                 #sort in incresing order and also temporary"
   ]
  },
  {
   "cell_type": "code",
   "execution_count": 27,
   "id": "f88cb6d9",
   "metadata": {},
   "outputs": [
    {
     "data": {
      "text/plain": [
       "[2, 6, 3, 9, 7, 17, 34, 1]"
      ]
     },
     "execution_count": 27,
     "metadata": {},
     "output_type": "execute_result"
    }
   ],
   "source": [
    "l3"
   ]
  },
  {
   "cell_type": "code",
   "execution_count": 28,
   "id": "48096c4f",
   "metadata": {},
   "outputs": [],
   "source": [
    "# permanent sorting\n",
    "\n",
    "l3.sort()"
   ]
  },
  {
   "cell_type": "code",
   "execution_count": 29,
   "id": "4c74d71e",
   "metadata": {},
   "outputs": [
    {
     "data": {
      "text/plain": [
       "[1, 2, 3, 6, 7, 9, 17, 34]"
      ]
     },
     "execution_count": 29,
     "metadata": {},
     "output_type": "execute_result"
    }
   ],
   "source": [
    "l3"
   ]
  },
  {
   "cell_type": "code",
   "execution_count": 30,
   "id": "96d79d9b",
   "metadata": {},
   "outputs": [],
   "source": [
    "l3.sort(reverse=True)"
   ]
  },
  {
   "cell_type": "code",
   "execution_count": 31,
   "id": "92b3bc3f",
   "metadata": {},
   "outputs": [
    {
     "data": {
      "text/plain": [
       "[34, 17, 9, 7, 6, 3, 2, 1]"
      ]
     },
     "execution_count": 31,
     "metadata": {},
     "output_type": "execute_result"
    }
   ],
   "source": [
    "l3"
   ]
  }
 ],
 "metadata": {
  "kernelspec": {
   "display_name": "Python 3 (ipykernel)",
   "language": "python",
   "name": "python3"
  },
  "language_info": {
   "codemirror_mode": {
    "name": "ipython",
    "version": 3
   },
   "file_extension": ".py",
   "mimetype": "text/x-python",
   "name": "python",
   "nbconvert_exporter": "python",
   "pygments_lexer": "ipython3",
   "version": "3.9.13"
  }
 },
 "nbformat": 4,
 "nbformat_minor": 5
}
