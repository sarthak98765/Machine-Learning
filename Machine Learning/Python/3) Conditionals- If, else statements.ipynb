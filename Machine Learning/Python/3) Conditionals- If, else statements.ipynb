{
 "cells": [
  {
   "cell_type": "code",
   "execution_count": 1,
   "id": "099b6761",
   "metadata": {},
   "outputs": [
    {
     "name": "stdout",
     "output_type": "stream",
     "text": [
      "23\n",
      "45\n",
      "45 is greater number than 23\n"
     ]
    }
   ],
   "source": [
    "# Simple if-else statements -- for 1 condition\n",
    "\n",
    "a=int(input())\n",
    "b=int(input())\n",
    "\n",
    "if a>b:\n",
    "    print(a,\"is greater number than\",b)\n",
    "else:\n",
    "    print(b,\"is greater number than\",a)"
   ]
  },
  {
   "cell_type": "code",
   "execution_count": 2,
   "id": "30ac6d17",
   "metadata": {},
   "outputs": [
    {
     "name": "stdout",
     "output_type": "stream",
     "text": [
      "23\n",
      "23\n",
      "Both are equal numbers\n"
     ]
    }
   ],
   "source": [
    "#if-elif-else -- for more than 1 condition\n",
    "\n",
    "a=int(input())\n",
    "b=int(input())\n",
    "\n",
    "if a>b:\n",
    "    print(a,\"is greater number than\",b)\n",
    "elif a==b:\n",
    "    print(\"Both are equal numbers\")\n",
    "else:\n",
    "    print(b,\"is greater number than\",a)"
   ]
  },
  {
   "cell_type": "code",
   "execution_count": 3,
   "id": "4f6e33ae",
   "metadata": {},
   "outputs": [
    {
     "name": "stdout",
     "output_type": "stream",
     "text": [
      "23\n",
      "45\n",
      "34\n",
      "b is the greatest number\n"
     ]
    }
   ],
   "source": [
    "#Nested-if \n",
    "\n",
    "a = int(input())\n",
    "b = int(input())\n",
    "c = int(input())\n",
    "\n",
    "if(a>b):                  #identitation matters\n",
    "    if(a>c):\n",
    "        print('a is greatest number')\n",
    "    else:\n",
    "        print('c is greatest number')\n",
    "else:\n",
    "    if(b>c):\n",
    "        print('b is the greatest number')\n",
    "    else:\n",
    "        print('c is the greatest number')"
   ]
  }
 ],
 "metadata": {
  "kernelspec": {
   "display_name": "Python 3 (ipykernel)",
   "language": "python",
   "name": "python3"
  },
  "language_info": {
   "codemirror_mode": {
    "name": "ipython",
    "version": 3
   },
   "file_extension": ".py",
   "mimetype": "text/x-python",
   "name": "python",
   "nbconvert_exporter": "python",
   "pygments_lexer": "ipython3",
   "version": "3.9.13"
  }
 },
 "nbformat": 4,
 "nbformat_minor": 5
}
