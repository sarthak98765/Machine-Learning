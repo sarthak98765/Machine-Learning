{
 "cells": [
  {
   "cell_type": "markdown",
   "id": "c47b798a",
   "metadata": {},
   "source": [
    "# Dictionary\n",
    "A dictionary is a collection which is unordered,changaeble and indexed. In Python dictionaries are written with curly brackets, and they have keys and values. Duplicates are not allowed in dictionary.                           \n",
    "                          \n",
    "-Mutable                              \n",
    "-Indexing is there                            \n",
    "-Duplicates are not allowed                                \n",
    "-curly brackets used with : and ,                     \n",
    "-key must be a single element                              \n",
    "-values can be any data type"
   ]
  },
  {
   "cell_type": "code",
   "execution_count": 1,
   "id": "c0aa55c4",
   "metadata": {},
   "outputs": [
    {
     "data": {
      "text/plain": [
       "dict"
      ]
     },
     "execution_count": 1,
     "metadata": {},
     "output_type": "execute_result"
    }
   ],
   "source": [
    "dict={}\n",
    "type(dict)       #empty dictionary"
   ]
  },
  {
   "cell_type": "code",
   "execution_count": 2,
   "id": "b94dca24",
   "metadata": {},
   "outputs": [
    {
     "data": {
      "text/plain": [
       "set"
      ]
     },
     "execution_count": 2,
     "metadata": {},
     "output_type": "execute_result"
    }
   ],
   "source": [
    "dict1={1}\n",
    "type(dict1)"
   ]
  },
  {
   "cell_type": "code",
   "execution_count": 3,
   "id": "01c2f14c",
   "metadata": {},
   "outputs": [
    {
     "data": {
      "text/plain": [
       "set"
      ]
     },
     "execution_count": 3,
     "metadata": {},
     "output_type": "execute_result"
    }
   ],
   "source": [
    "dict2=set()\n",
    "type(dict2)"
   ]
  },
  {
   "cell_type": "code",
   "execution_count": 4,
   "id": "c47a7d13",
   "metadata": {},
   "outputs": [],
   "source": [
    "# Creating a dictionary\n",
    "\n",
    "my_dict={\"rohan\":\"burger\", \"sohan\":\"pizza\"}"
   ]
  },
  {
   "cell_type": "code",
   "execution_count": 5,
   "id": "3ee5a25e",
   "metadata": {},
   "outputs": [
    {
     "data": {
      "text/plain": [
       "{'rohan': 'burger', 'sohan': 'pizza'}"
      ]
     },
     "execution_count": 5,
     "metadata": {},
     "output_type": "execute_result"
    }
   ],
   "source": [
    "my_dict"
   ]
  },
  {
   "cell_type": "code",
   "execution_count": 6,
   "id": "003e4a39",
   "metadata": {},
   "outputs": [
    {
     "data": {
      "text/plain": [
       "'burger'"
      ]
     },
     "execution_count": 6,
     "metadata": {},
     "output_type": "execute_result"
    }
   ],
   "source": [
    "# Access the item values based on keys\n",
    "\n",
    "my_dict['rohan']"
   ]
  },
  {
   "cell_type": "code",
   "execution_count": 7,
   "id": "26ce4c77",
   "metadata": {},
   "outputs": [
    {
     "name": "stdout",
     "output_type": "stream",
     "text": [
      "rohan\n",
      "sohan\n"
     ]
    }
   ],
   "source": [
    "# We can even loop through the dict values\n",
    "\n",
    "for x in my_dict:\n",
    "    print(x)"
   ]
  },
  {
   "cell_type": "code",
   "execution_count": 8,
   "id": "b784c687",
   "metadata": {},
   "outputs": [
    {
     "name": "stdout",
     "output_type": "stream",
     "text": [
      "burger\n",
      "pizza\n"
     ]
    }
   ],
   "source": [
    "for x in my_dict.values():\n",
    "    print(x)"
   ]
  },
  {
   "cell_type": "code",
   "execution_count": 9,
   "id": "98958069",
   "metadata": {},
   "outputs": [
    {
     "name": "stdout",
     "output_type": "stream",
     "text": [
      "('rohan', 'burger')\n",
      "('sohan', 'pizza')\n"
     ]
    }
   ],
   "source": [
    "# We can also check both keys and values\n",
    "for x in my_dict.items():\n",
    "    print(x)"
   ]
  },
  {
   "cell_type": "code",
   "execution_count": 10,
   "id": "c474efd3",
   "metadata": {},
   "outputs": [
    {
     "data": {
      "text/plain": [
       "{'rohan': 'burger', 'sohan': 'pizza', 'sahil': 'fries'}"
      ]
     },
     "execution_count": 10,
     "metadata": {},
     "output_type": "execute_result"
    }
   ],
   "source": [
    "# Adding items in dictionaries\n",
    "\n",
    "my_dict['sahil']=\"fries\"\n",
    "my_dict"
   ]
  },
  {
   "cell_type": "code",
   "execution_count": 11,
   "id": "a2133fc3",
   "metadata": {},
   "outputs": [
    {
     "data": {
      "text/plain": [
       "{'rohan': 'burger', 'sahil': 'fries'}"
      ]
     },
     "execution_count": 11,
     "metadata": {},
     "output_type": "execute_result"
    }
   ],
   "source": [
    "# deleting items in dictionary\n",
    "\n",
    "del my_dict['sohan']\n",
    "my_dict"
   ]
  },
  {
   "cell_type": "code",
   "execution_count": 13,
   "id": "755fb73b",
   "metadata": {},
   "outputs": [],
   "source": [
    "my_dict['sohan']='pizza'"
   ]
  },
  {
   "cell_type": "markdown",
   "id": "8fe5bad8",
   "metadata": {},
   "source": [
    "# Nested dictionary"
   ]
  },
  {
   "cell_type": "code",
   "execution_count": 14,
   "id": "61f16cbb",
   "metadata": {},
   "outputs": [],
   "source": [
    "rohan_age={'bureger':17}\n",
    "sohan_age={'pizza':19}\n",
    "sahil_age={'fries':20}\n",
    "\n",
    "new_dict={'rohan':rohan_age,'sohan':sohan_age,'sahil':sahil_age}"
   ]
  },
  {
   "cell_type": "code",
   "execution_count": 15,
   "id": "255acd15",
   "metadata": {},
   "outputs": [
    {
     "data": {
      "text/plain": [
       "{'rohan': {'bureger': 17}, 'sohan': {'pizza': 19}, 'sahil': {'fries': 20}}"
      ]
     },
     "execution_count": 15,
     "metadata": {},
     "output_type": "execute_result"
    }
   ],
   "source": [
    "new_dict"
   ]
  },
  {
   "cell_type": "code",
   "execution_count": 16,
   "id": "e2cd58c5",
   "metadata": {},
   "outputs": [
    {
     "name": "stdout",
     "output_type": "stream",
     "text": [
      "{'bureger': 17}\n"
     ]
    }
   ],
   "source": [
    "# Accessing the items in the dictionary\n",
    "print(new_dict['rohan'])"
   ]
  },
  {
   "cell_type": "code",
   "execution_count": 17,
   "id": "8aeb4bf0",
   "metadata": {},
   "outputs": [
    {
     "name": "stdout",
     "output_type": "stream",
     "text": [
      "19\n"
     ]
    }
   ],
   "source": [
    "print(new_dict['sohan']['pizza'])"
   ]
  }
 ],
 "metadata": {
  "kernelspec": {
   "display_name": "Python 3 (ipykernel)",
   "language": "python",
   "name": "python3"
  },
  "language_info": {
   "codemirror_mode": {
    "name": "ipython",
    "version": 3
   },
   "file_extension": ".py",
   "mimetype": "text/x-python",
   "name": "python",
   "nbconvert_exporter": "python",
   "pygments_lexer": "ipython3",
   "version": "3.9.13"
  }
 },
 "nbformat": 4,
 "nbformat_minor": 5
}
